{
 "cells": [
  {
   "cell_type": "code",
   "execution_count": 1,
   "id": "e03ea0fb-c0cd-41ef-8bea-f5a91dd21d32",
   "metadata": {},
   "outputs": [],
   "source": [
    "import sys\n",
    "import os"
   ]
  },
  {
   "cell_type": "code",
   "execution_count": 2,
   "id": "2dc5e6ab-8fc4-4c1a-b72f-040b46355418",
   "metadata": {},
   "outputs": [],
   "source": [
    "script_path = '/Users/I500955/Documents/PG/MLOPs/Assignment/01_data_pipeline/'"
   ]
  },
  {
   "cell_type": "code",
   "execution_count": 3,
   "id": "59236f07-88be-4040-a64f-06a00e7c2153",
   "metadata": {},
   "outputs": [],
   "source": [
    "if script_path not in sys.path:\n",
    "    sys.path.append(script_path)"
   ]
  },
  {
   "cell_type": "code",
   "execution_count": 4,
   "id": "84d4aed8-22e8-4d35-abdf-6cade5875864",
   "metadata": {},
   "outputs": [],
   "source": [
    "#!pip install --upgrade bottleneck"
   ]
  },
  {
   "cell_type": "code",
   "execution_count": 5,
   "id": "d3c16eac-b91f-4289-bb7c-313c65ca5304",
   "metadata": {},
   "outputs": [],
   "source": [
    "import utils"
   ]
  },
  {
   "cell_type": "code",
   "execution_count": 6,
   "id": "4984853c-54c0-4588-a6eb-ae5dd5190761",
   "metadata": {},
   "outputs": [
    {
     "name": "stdout",
     "output_type": "stream",
     "text": [
      "/Users/I500955/Documents/PG/MLOPs/Assignment/01_data_pipeline/scripts/\n",
      "DB Already Exsist\n",
      "/Users/I500955/Documents/PG/MLOPs/Assignment/01_data_pipeline/scripts\n"
     ]
    },
    {
     "data": {
      "text/plain": [
       "'DB Exsist'"
      ]
     },
     "execution_count": 6,
     "metadata": {},
     "output_type": "execute_result"
    }
   ],
   "source": [
    "utils.build_dbs()"
   ]
  },
  {
   "cell_type": "code",
   "execution_count": 7,
   "id": "2d248314-e9ac-45cc-8bbf-f13b223b239e",
   "metadata": {},
   "outputs": [
    {
     "name": "stdout",
     "output_type": "stream",
     "text": [
      "Data loaded into the database at /Users/I500955/Documents/PG/MLOPs/Assignment/01_data_pipeline/scripts//utils_output.db in the 'loaded_data' table.\n"
     ]
    }
   ],
   "source": [
    "utils.load_data_into_db()"
   ]
  },
  {
   "cell_type": "code",
   "execution_count": 8,
   "id": "75397388-c850-4f7a-a5ab-cb15cbb31f18",
   "metadata": {},
   "outputs": [
    {
     "name": "stdout",
     "output_type": "stream",
     "text": [
      "Data with city tiers mapped has been saved to the database at /Users/I500955/Documents/PG/MLOPs/Assignment/01_data_pipeline/scripts//utils_output.db in the 'city_tier_mapped' table.\n"
     ]
    }
   ],
   "source": [
    "utils.map_city_tier()"
   ]
  },
  {
   "cell_type": "code",
   "execution_count": 9,
   "id": "4ccc4760-4a44-45f8-bba8-59655c99c383",
   "metadata": {},
   "outputs": [
    {
     "name": "stdout",
     "output_type": "stream",
     "text": [
      "Data with categorical variables mapped has been saved to the database at /Users/I500955/Documents/PG/MLOPs/Assignment/01_data_pipeline/scripts//utils_output.db in the 'categorical_variables_mapped' table.\n"
     ]
    }
   ],
   "source": [
    "utils.map_categorical_vars()"
   ]
  },
  {
   "cell_type": "code",
   "execution_count": 10,
   "id": "247e126d-1a42-432c-9aa3-378d412d62fc",
   "metadata": {},
   "outputs": [
    {
     "name": "stdout",
     "output_type": "stream",
     "text": [
      "Interaction columns have been mapped and saved to 'interactions_mapped'. Model input features saved to 'model_input'.\n"
     ]
    }
   ],
   "source": [
    "utils.interactions_mapping()"
   ]
  },
  {
   "cell_type": "code",
   "execution_count": null,
   "id": "25e676fb-db8f-4fb7-8f25-fa0dace63a86",
   "metadata": {},
   "outputs": [],
   "source": []
  }
 ],
 "metadata": {
  "kernelspec": {
   "display_name": "Python 3 (ipykernel)",
   "language": "python",
   "name": "python3"
  },
  "language_info": {
   "codemirror_mode": {
    "name": "ipython",
    "version": 3
   },
   "file_extension": ".py",
   "mimetype": "text/x-python",
   "name": "python",
   "nbconvert_exporter": "python",
   "pygments_lexer": "ipython3",
   "version": "3.10.9"
  }
 },
 "nbformat": 4,
 "nbformat_minor": 5
}
